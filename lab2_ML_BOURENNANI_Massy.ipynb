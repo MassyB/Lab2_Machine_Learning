{
 "cells": [
  {
   "cell_type": "code",
   "execution_count": 8,
   "metadata": {
    "collapsed": false
   },
   "outputs": [],
   "source": [
    "import numpy as np\n",
    "from collections import Counter"
   ]
  },
  {
   "cell_type": "code",
   "execution_count": 80,
   "metadata": {
    "collapsed": false
   },
   "outputs": [],
   "source": [
    "class my_majoriy_class_classifier:\n",
    "    \n",
    "    def __init__(self):\n",
    "        pass\n",
    "    def fit(self, X,y):\n",
    "        dict_count= Counter(y)\n",
    "        self.prediction = max(dict_count.items(), key= lambda x:x[1])[0] ## choose the most commun value\n",
    "        return self\n",
    "    \n",
    "    def predict(self, X):\n",
    "        return [ self.prediction for _ in range(X.shape[0])]"
   ]
  },
  {
   "cell_type": "code",
   "execution_count": 57,
   "metadata": {
    "collapsed": false
   },
   "outputs": [
    {
     "name": "stdout",
     "output_type": "stream",
     "text": [
      "number of occurence of each class {0: 212, 1: 357}\n",
      "the real accuracy of the majority class classifier 0.6274165202108963\n"
     ]
    }
   ],
   "source": [
    "from sklearn.datasets import load_breast_cancer\n",
    "\n",
    "cancer_X  = load_breast_cancer().data\n",
    "cancer_y = load_breast_cancer().target\n",
    "dict_cancer_count = dict(Counter(cancer_y))\n",
    "\n",
    "print(\"number of occurence of each class \"+ str(dict_cancer_count))\n",
    "\n",
    "#the majority class is the positive class\n",
    "      \n",
    "majority_class_accuracy = dict_cancer_count[1] / (dict_cancer_count[0] +dict_cancer_count[1])\n",
    "      \n",
    "print(\"the real accuracy of the majority class classifier \" + str( majority_class_accuracy) )"
   ]
  },
  {
   "cell_type": "code",
   "execution_count": 40,
   "metadata": {
    "collapsed": false
   },
   "outputs": [
    {
     "data": {
      "text/plain": [
       "[1, 1, 1, 1, 1, 1, 1, 1, 1, 1]"
      ]
     },
     "execution_count": 40,
     "metadata": {},
     "output_type": "execute_result"
    }
   ],
   "source": [
    "my_classifier.fit(cancer_X,cancer_y)\n",
    "my_classifier.predict(cancer_X[0:10]) #test for the 10 first items"
   ]
  },
  {
   "cell_type": "code",
   "execution_count": 59,
   "metadata": {
    "collapsed": false
   },
   "outputs": [
    {
     "name": "stdout",
     "output_type": "stream",
     "text": [
      "my majority class classifier accuracy is 0.627416520211\n",
      "the result is True\n"
     ]
    }
   ],
   "source": [
    "from sklearn.metrics import accuracy_score\n",
    "my_majority_class_accuracy=accuracy_score(cancer_y, my_classifier.predict(cancer_X))\n",
    "print('my majority class classifier accuracy is '+ str(my_majority_class_accuracy))\n",
    "print('the result is ' + str(my_majority_class_accuracy == majority_class_accuracy))"
   ]
  },
  {
   "cell_type": "code",
   "execution_count": 83,
   "metadata": {
    "collapsed": true
   },
   "outputs": [],
   "source": [
    "from sklearn.svm import SVC\n",
    "from sklearn.linear_model import LogisticRegression\n",
    "from sklearn.neighbors import KNeighborsClassifier\n",
    "from sklearn.ensemble import RandomForestClassifier\n",
    "\n",
    "# the classifier is a composition of other classifiers\n",
    "\n",
    "class more_efficient_classifier:\n",
    "    def __init__(self):\n",
    "        self.classifiers = [KNeighborsClassifier(),\n",
    "                            SVC(),\n",
    "                            LogisticRegression(),\n",
    "                            RandomForestClassifier()]\n",
    "    \n",
    "    def fit(self, X, y):\n",
    "        for c in self.classifiers:\n",
    "            c.fit(X,y)  \n",
    "        return self\n",
    "    \n",
    "    def predict(self, X):\n",
    "        predicates = []\n",
    "        results = []\n",
    "        for classifier in self.classifiers:\n",
    "            predicates.append(classifier.predict(X))\n",
    "        \n",
    "        predicates = np.array(predicates)\n",
    "        \n",
    "        for i in range(X.shape[0]):\n",
    "            \n",
    "            col = predicates[:,i]\n",
    "            count = dict(Counter(col))\n",
    "            result = max(count.items(), key=lambda x: x[1])\n",
    "            results.append(result[0]) # the most commun prediction\n",
    "            \n",
    "        return results"
   ]
  },
  {
   "cell_type": "code",
   "execution_count": 77,
   "metadata": {
    "collapsed": false
   },
   "outputs": [
    {
     "data": {
      "text/plain": [
       "[0, 0, 0, 0, 0, 0, 0, 0, 0, 0]"
      ]
     },
     "execution_count": 77,
     "metadata": {},
     "output_type": "execute_result"
    }
   ],
   "source": [
    "mec = more_efficient_classifier()\n",
    "\n",
    "mec.fit(cancer_X,cancer_y)\n",
    "mec.predict(cancer_X[0:10]) #test for the 10 first items\n"
   ]
  },
  {
   "cell_type": "markdown",
   "metadata": {},
   "source": [
    "## Comparing the two classifiers: my_majority_class_classifier & more_efficient_classifier"
   ]
  },
  {
   "cell_type": "code",
   "execution_count": 84,
   "metadata": {
    "collapsed": false
   },
   "outputs": [
    {
     "name": "stdout",
     "output_type": "stream",
     "text": [
      "majority class accuracy is 0.643617021277\n",
      "more efficient classifier accuracy is 0.962765957447\n"
     ]
    }
   ],
   "source": [
    "from sklearn.model_selection import train_test_split\n",
    "\n",
    "X_train, X_test, y_train, y_test = train_test_split(cancer_X,cancer_y, test_size=0.33, random_state=0)\n",
    "\n",
    "\n",
    "majority_class_acc = accuracy_score(y_test,my_majoriy_class_classifier().fit(X_train,y_train).predict(X_test))\n",
    "mec_acc = accuracy_score(y_test, more_efficient_classifier().fit(X_train,y_train).predict(X_test))\n",
    "\n",
    "print(\"majority class accuracy is \" + str(majority_class_acc))\n",
    "print(\"more efficient classifier accuracy is \" + str(mec_acc))"
   ]
  },
  {
   "cell_type": "code",
   "execution_count": null,
   "metadata": {
    "collapsed": true
   },
   "outputs": [],
   "source": []
  }
 ],
 "metadata": {
  "anaconda-cloud": {},
  "kernelspec": {
   "display_name": "Python [conda root]",
   "language": "python",
   "name": "conda-root-py"
  },
  "language_info": {
   "codemirror_mode": {
    "name": "ipython",
    "version": 3
   },
   "file_extension": ".py",
   "mimetype": "text/x-python",
   "name": "python",
   "nbconvert_exporter": "python",
   "pygments_lexer": "ipython3",
   "version": "3.5.2"
  }
 },
 "nbformat": 4,
 "nbformat_minor": 1
}
